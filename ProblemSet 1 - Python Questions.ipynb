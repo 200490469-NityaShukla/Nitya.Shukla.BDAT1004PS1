{
 "cells": [
  {
   "cell_type": "markdown",
   "id": "f49751ce",
   "metadata": {},
   "source": [
    "## Problem Set 1 - Python Questions."
   ]
  },
  {
   "cell_type": "markdown",
   "id": "8c3e8df2",
   "metadata": {},
   "source": [
    "### Q6. Turn a word into pig - latin"
   ]
  },
  {
   "cell_type": "code",
   "execution_count": 4,
   "id": "3538c03c",
   "metadata": {},
   "outputs": [
    {
     "name": "stdout",
     "output_type": "stream",
     "text": [
      ">>> pig('happy')  =  appyhay\n",
      ">>> pig('Enter')  =  enterway\n",
      ">>> pig('Pencil') =  encilpay\n"
     ]
    }
   ],
   "source": [
    "def pig(string):\n",
    "    ch = string[0]\n",
    "    if (ch=='A' or ch=='a' or ch=='E' or ch =='e' or ch=='I' or ch=='i' or ch=='O' or ch=='o' or ch=='U' or ch=='u'):\n",
    "        outputstr = string.lower() + \"way\"                   # expression if string starts with vowel\n",
    "    else:\n",
    "        outputstr = string[1:] + string[0].lower() + \"ay\"    # expression if string starts with consonant\n",
    "        \n",
    "    return outputstr\n",
    "print(\">>> pig('happy')  = \",pig(\"happy\"))\n",
    "print(\">>> pig('Enter')  = \",pig(\"Enter\"))\n",
    "print(\">>> pig('Pencil') = \",pig(\"pencil\"))"
   ]
  },
  {
   "cell_type": "markdown",
   "id": "dda2620c",
   "metadata": {},
   "source": [
    "### Q7. Number of patients of each Blood Type"
   ]
  },
  {
   "cell_type": "code",
   "execution_count": 7,
   "id": "1948f89f",
   "metadata": {},
   "outputs": [
    {
     "name": "stdout",
     "output_type": "stream",
     "text": [
      "There are 15 patients of blood type A.\n",
      "There are 1 patients of blood type B.\n",
      "There are 13 patients of blood type AB.\n",
      "There are 15 patients of blood type O.\n",
      "There are 0 patients of blood type OO.\n"
     ]
    }
   ],
   "source": [
    "bloodtypes = ['A','B','AB','O', 'OO']\n",
    "\n",
    "def bldcount():\n",
    "    name = open(\"bloodtype1.txt\",'r')               # opening file in read format\n",
    "    content = name.read().split()                   # a list with name 'content' is created in which the file data is stored\n",
    "                                                    # split() is used to split the file data with whitespace\n",
    "    name.close()\n",
    "    for item in bloodtypes:                         # content.count(item) - will count the no. of occurrences of 'item' string \n",
    "        print(\"There are {} patients of blood type {}.\".format(content.count(item),item))  # in the list 'content' \n",
    "bldcount()"
   ]
  },
  {
   "cell_type": "markdown",
   "id": "6f8dda2c",
   "metadata": {},
   "source": [
    "### Q8. Currency Converter"
   ]
  },
  {
   "cell_type": "code",
   "execution_count": 13,
   "id": "a5b8a5c2",
   "metadata": {},
   "outputs": [
    {
     "name": "stdout",
     "output_type": "stream",
     "text": [
      ">>> curconv('EUR', 100) =  122.96544\n",
      ">>> curconv('JPY', 100) =  1.241401\n",
      ">>> curconv('INR', 100) =  1.77643\n"
     ]
    }
   ],
   "source": [
    "myfile = open(\"currencies.txt\",\"r\")\n",
    "lineList = myfile.readlines()                 # reading all the lines of a file and is stored in raw form in a list\n",
    "\n",
    "lines = []\n",
    "for i in range(len(lineList)):        \n",
    "    lines.append(lineList[i].split())         # multidimesional list is created and the data is stored line wise in a list \n",
    "\n",
    "mydict = {}                                  # dictionary is created to use 'key' as currency code and 'value' as exchange rate\n",
    "for line in lines: mydict[line[0]] = float(line[1])  # For each line 0th element is currency code and 1st element is exch. rate\n",
    "\n",
    "def curconv(ccode, value):\n",
    "    return value*mydict[ccode]\n",
    "\n",
    "print(\">>> curconv('EUR', 100) = \",curconv('EUR', 100))\n",
    "print(\">>> curconv('JPY', 100) = \",curconv('JPY', 100))\n",
    "print(\">>> curconv('INR', 100) = \",curconv('INR', 100))"
   ]
  },
  {
   "cell_type": "markdown",
   "id": "4725c8c8",
   "metadata": {},
   "source": [
    "### Q9. Identify types of Exceptions"
   ]
  },
  {
   "cell_type": "markdown",
   "id": "81e5880e",
   "metadata": {},
   "source": [
    "1. 6 + 'a' - **unsupported operand type(s) for +: 'int' and 'str'**  \n",
    "  \n",
    "2. Referring to 12th item of a list that has only 10 items - **list index out of range**  \n",
    "  \n",
    "3. math.sqrt(-1.0) - **math domain error**  \n",
    "  \n",
    "4. Using an undeclared variable, such as print(x) when x is not been defined - **name 'x' is not defined**  \n",
    "  \n",
    "5. Trying to open a file that does not exist, such as mistyping the file name or looking in the wrong directory - **No such file or directory: 'file_name.txt'**"
   ]
  },
  {
   "cell_type": "markdown",
   "id": "c3d2efb4",
   "metadata": {},
   "source": [
    "### Q 10. Cryptanalysis"
   ]
  },
  {
   "cell_type": "code",
   "execution_count": 16,
   "id": "d692c2a8",
   "metadata": {},
   "outputs": [
    {
     "name": "stdout",
     "output_type": "stream",
     "text": [
      ">>> frequencies('The quick red fox got bored and went home.') = \n",
      " [1, 1, 1, 3, 5, 1, 1, 2, 1, 0, 1, 0, 1, 2, 4, 0, 1, 2, 0, 2, 1, 0, 1, 1, 0, 0]\n",
      "\n",
      ">>> frequencies('apple') =  [1, 0, 0, 0, 1, 0, 0, 0, 0, 0, 0, 1, 0, 0, 0, 2, 0, 0, 0, 0, 0, 0, 0, 0, 0, 0]\n"
     ]
    }
   ],
   "source": [
    "def frequencies(string):\n",
    "    letters = \"abcdefghijklmnopqrstuvwxyz\"\n",
    "    output = []\n",
    "    for i in letters:\n",
    "        output.append(string.count(i))  # - counts the occurrencies of ith character in the string \n",
    "        \n",
    "    return output\n",
    "print(\">>> frequencies('The quick red fox got bored and went home.') = \\n\",frequencies('The quick red fox got bored and went home.'))\n",
    "print(\"\\n>>> frequencies('apple') = \",frequencies('apple'))"
   ]
  },
  {
   "cell_type": "code",
   "execution_count": null,
   "id": "8d37c5fb",
   "metadata": {},
   "outputs": [],
   "source": []
  }
 ],
 "metadata": {
  "kernelspec": {
   "display_name": "Python 3",
   "language": "python",
   "name": "python3"
  },
  "language_info": {
   "codemirror_mode": {
    "name": "ipython",
    "version": 3
   },
   "file_extension": ".py",
   "mimetype": "text/x-python",
   "name": "python",
   "nbconvert_exporter": "python",
   "pygments_lexer": "ipython3",
   "version": "3.8.8"
  }
 },
 "nbformat": 4,
 "nbformat_minor": 5
}
