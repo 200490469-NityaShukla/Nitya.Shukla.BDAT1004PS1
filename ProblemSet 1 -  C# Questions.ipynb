{
 "cells": [
  {
   "cell_type": "markdown",
   "id": "e93d34f6",
   "metadata": {},
   "source": [
    "## Problem Set 1 -  C# Questions"
   ]
  },
  {
   "cell_type": "markdown",
   "id": "32a84b68",
   "metadata": {},
   "source": [
    "### Q1. Data Types of each of the following"
   ]
  },
  {
   "cell_type": "markdown",
   "id": "4b100064",
   "metadata": {},
   "source": [
    "5     - **Integer**  \n",
    "5.0   - **Float**  \n",
    "5 > 1 - **Boolean**  \n",
    "'5'   - **Character**  \n",
    "5 * 2 - **Integer**  \n",
    "'5' * 2 - **Integer (It represents Two times ASCII value of character'5' which is as integer)**  \n",
    "'5'+'2' - **Integer (It represents summation of ASCII value of characters '5' and '2' which is as integer)**  \n",
    "5 / 2 - **Float**  \n",
    "5 % 2 - **Integer**  \n",
    "{5,2,1} - **Array of Integer type**  \n",
    "5 == 3 - **Boolean**  "
   ]
  },
  {
   "cell_type": "markdown",
   "id": "19b86c0e",
   "metadata": {},
   "source": [
    "### Q2. Write C# Expression that answers the following question"
   ]
  },
  {
   "cell_type": "code",
   "execution_count": 1,
   "id": "881d8cdf",
   "metadata": {},
   "outputs": [
    {
     "data": {
      "text/html": [
       "\r\n",
       "<div>\r\n",
       "    <div id='dotnet-interactive-this-cell-5720.Microsoft.DotNet.Interactive.Http.HttpPort' style='display: none'>\r\n",
       "        The below script needs to be able to find the current output cell; this is an easy method to get it.\r\n",
       "    </div>\r\n",
       "    <script type='text/javascript'>\r\n",
       "async function probeAddresses(probingAddresses) {\r\n",
       "    function timeout(ms, promise) {\r\n",
       "        return new Promise(function (resolve, reject) {\r\n",
       "            setTimeout(function () {\r\n",
       "                reject(new Error('timeout'))\r\n",
       "            }, ms)\r\n",
       "            promise.then(resolve, reject)\r\n",
       "        })\r\n",
       "    }\r\n",
       "\r\n",
       "    if (Array.isArray(probingAddresses)) {\r\n",
       "        for (let i = 0; i < probingAddresses.length; i++) {\r\n",
       "\r\n",
       "            let rootUrl = probingAddresses[i];\r\n",
       "\r\n",
       "            if (!rootUrl.endsWith('/')) {\r\n",
       "                rootUrl = `${rootUrl}/`;\r\n",
       "            }\r\n",
       "\r\n",
       "            try {\r\n",
       "                let response = await timeout(1000, fetch(`${rootUrl}discovery`, {\r\n",
       "                    method: 'POST',\r\n",
       "                    cache: 'no-cache',\r\n",
       "                    mode: 'cors',\r\n",
       "                    timeout: 1000,\r\n",
       "                    headers: {\r\n",
       "                        'Content-Type': 'text/plain'\r\n",
       "                    },\r\n",
       "                    body: probingAddresses[i]\r\n",
       "                }));\r\n",
       "\r\n",
       "                if (response.status == 200) {\r\n",
       "                    return rootUrl;\r\n",
       "                }\r\n",
       "            }\r\n",
       "            catch (e) { }\r\n",
       "        }\r\n",
       "    }\r\n",
       "}\r\n",
       "\r\n",
       "function loadDotnetInteractiveApi() {\r\n",
       "    probeAddresses([\"http://192.168.56.1:1000/\", \"http://192.168.0.103:1000/\", \"http://127.0.0.1:1000/\"])\r\n",
       "        .then((root) => {\r\n",
       "        // use probing to find host url and api resources\r\n",
       "        // load interactive helpers and language services\r\n",
       "        let dotnetInteractiveRequire = require.config({\r\n",
       "        context: '5720.Microsoft.DotNet.Interactive.Http.HttpPort',\r\n",
       "                paths:\r\n",
       "            {\r\n",
       "                'dotnet-interactive': `${root}resources`\r\n",
       "                }\r\n",
       "        }) || require;\r\n",
       "\r\n",
       "            window.dotnetInteractiveRequire = dotnetInteractiveRequire;\r\n",
       "\r\n",
       "            window.configureRequireFromExtension = function(extensionName, extensionCacheBuster) {\r\n",
       "                let paths = {};\r\n",
       "                paths[extensionName] = `${root}extensions/${extensionName}/resources/`;\r\n",
       "                \r\n",
       "                let internalRequire = require.config({\r\n",
       "                    context: extensionCacheBuster,\r\n",
       "                    paths: paths,\r\n",
       "                    urlArgs: `cacheBuster=${extensionCacheBuster}`\r\n",
       "                    }) || require;\r\n",
       "\r\n",
       "                return internalRequire\r\n",
       "            };\r\n",
       "        \r\n",
       "            dotnetInteractiveRequire([\r\n",
       "                    'dotnet-interactive/dotnet-interactive'\r\n",
       "                ],\r\n",
       "                function (dotnet) {\r\n",
       "                    dotnet.init(window);\r\n",
       "                },\r\n",
       "                function (error) {\r\n",
       "                    console.log(error);\r\n",
       "                }\r\n",
       "            );\r\n",
       "        })\r\n",
       "        .catch(error => {console.log(error);});\r\n",
       "    }\r\n",
       "\r\n",
       "// ensure `require` is available globally\r\n",
       "if ((typeof(require) !==  typeof(Function)) || (typeof(require.config) !== typeof(Function))) {\r\n",
       "    let require_script = document.createElement('script');\r\n",
       "    require_script.setAttribute('src', 'https://cdnjs.cloudflare.com/ajax/libs/require.js/2.3.6/require.min.js');\r\n",
       "    require_script.setAttribute('type', 'text/javascript');\r\n",
       "    \r\n",
       "    \r\n",
       "    require_script.onload = function() {\r\n",
       "        loadDotnetInteractiveApi();\r\n",
       "    };\r\n",
       "\r\n",
       "    document.getElementsByTagName('head')[0].appendChild(require_script);\r\n",
       "}\r\n",
       "else {\r\n",
       "    loadDotnetInteractiveApi();\r\n",
       "}\r\n",
       "\r\n",
       "    </script>\r\n",
       "</div>"
      ]
     },
     "metadata": {},
     "output_type": "display_data"
    },
    {
     "name": "stdout",
     "output_type": "stream",
     "text": [
      "Total number of letters in Supercalifragilisticexpialidocious = 34\r\n"
     ]
    }
   ],
   "source": [
    "// a. How many letters are there in 'Supercalifragilisticexpialidocious'? //\n",
    "\n",
    "string str = \"Supercalifragilisticexpialidocious\";\n",
    "Console.WriteLine($\"Total number of letters in {str} = {str.Length}\");"
   ]
  },
  {
   "cell_type": "code",
   "execution_count": 2,
   "id": "72c9b26c",
   "metadata": {},
   "outputs": [
    {
     "name": "stdout",
     "output_type": "stream",
     "text": [
      "True\r\n"
     ]
    }
   ],
   "source": [
    "// b. Does 'Supercalifragilisticexpialidocious' contain 'ice' as a substring? //\n",
    "\n",
    "string substr = \"ice\";\n",
    "Console.WriteLine(str.Contains(substr));"
   ]
  },
  {
   "cell_type": "code",
   "execution_count": 3,
   "id": "daf194f4",
   "metadata": {},
   "outputs": [
    {
     "name": "stdout",
     "output_type": "stream",
     "text": [
      "Letters in Supercalifragilisticexpialidocious = 34\n",
      "Letters in Honorificabilitudinitatibus = 27\n",
      "Letters in Bababadalgharaghtakamminarronnkonn = 34\r\n"
     ]
    }
   ],
   "source": [
    "// c. Which of the following words is the longest? //\n",
    "\n",
    "string w1 = \"Supercalifragilisticexpialidocious\";\n",
    "string w2 = \"Honorificabilitudinitatibus\";\n",
    "string w3 = \"Bababadalgharaghtakamminarronnkonn\";\n",
    "\n",
    "Console.WriteLine($\"Letters in {w1} = {w1.Length}\\nLetters in {w2} = {w2.Length}\\nLetters in {w3} = {w3.Length}\");"
   ]
  },
  {
   "cell_type": "code",
   "execution_count": 4,
   "id": "7df1a550",
   "metadata": {},
   "outputs": [
    {
     "name": "stdout",
     "output_type": "stream",
     "text": [
      "First word = Bartok \n",
      "Last word = Buxtehude\r\n"
     ]
    }
   ],
   "source": [
    "// d. Which composer comes first in dictionary: 'Berlioz','Borodin','Brian','Bartok','Bellini','Buxtehude','Bernstein'. \n",
    "// Which comes last? \n",
    "\n",
    "string[] a = {\"Berlioz\",\"Borodin\",\"Brian\",\"Bartok\",\"Bellini\",\"Buxtehude\",\"Bernstein\"};\n",
    "Array.Sort(a);\n",
    "Console.WriteLine($\"First word = {a[0]} \\nLast word = {a[a.Length-1]}\");"
   ]
  },
  {
   "cell_type": "markdown",
   "id": "fd19a0bb",
   "metadata": {},
   "source": [
    "### Q3. Program to find the Area of a Triangle "
   ]
  },
  {
   "cell_type": "code",
   "execution_count": 5,
   "id": "e153b32b",
   "metadata": {},
   "outputs": [
    {
     "name": "stdout",
     "output_type": "stream",
     "text": [
      "Are of triangle with sides 2,2,2 = 1.7320508075688772\r\n"
     ]
    }
   ],
   "source": [
    "float a = 2;\n",
    "float b = 2;\n",
    "float c = 2;\n",
    "\n",
    "double triangleArea(float x, float y, float z)\n",
    "{\n",
    "    float s = (x+y+z)/2;\n",
    "    return Math.Sqrt(s*(s-x)*(s-y)*(s-z));\n",
    "}\n",
    "\n",
    "Console.WriteLine($\"Are of triangle with sides {a},{b},{c} = {triangleArea(a,b,c)}\");\n"
   ]
  },
  {
   "cell_type": "markdown",
   "id": "ef7e904b",
   "metadata": {},
   "source": [
    " ### Q4. Program to seperate Odd and Even integers in seperate array"
   ]
  },
  {
   "cell_type": "code",
   "execution_count": 6,
   "id": "e43251ab",
   "metadata": {},
   "outputs": [
    {
     "name": "stdout",
     "output_type": "stream",
     "text": [
      "Input the number of elements to be stored in the array\n",
      "4\n",
      "element 0 :\n",
      "12\n",
      "element 1 :\n",
      "25\n",
      "element 2 :\n",
      "44\n",
      "element 3 :\n",
      "50\n",
      "\n",
      "The Even Elements are: \n",
      "12\n",
      "44\n",
      "50\n",
      "\n",
      "The Odd Elements are: \n",
      "25\n"
     ]
    }
   ],
   "source": [
    "Console.WriteLine(\"Input the number of elements to be stored in the array\");\n",
    "int x = Convert.ToInt32(input(Console.ReadLine())); // Taking input from user for the no. of elements to be stored in array\n",
    "\n",
    "int[] arr = new int[x];\n",
    "\n",
    "int i1=0, i2=0;                         // i1 and i2 are indexing variables for the seperate array of even and odd nos.\n",
    "\n",
    "for(int i=0; i<x; i++)                  // This loop is used to find out the length of even and odd arrays\n",
    "{\n",
    "    Console.WriteLine($\"element {i} :\");\n",
    "    arr[i] = Convert.ToInt32(input(Console.ReadLine()));\n",
    "    if (arr[i] % 2 == 0)    i1++;      // value of i1 will hold the length of even nos. array\n",
    "    else i2++;                         // value of i2 will hold the length of odd nos. array\n",
    "}\n",
    "int[] even = new int[i1];              // creating even nos array of size equal of i1\n",
    "int[] odd = new int[i2];               // creating odd nos array of size equal of i2\n",
    "i1=0;\n",
    "i2=0;\n",
    "foreach (int element in arr)          // storing elements to their respective arrays i.e., even or odd\n",
    "{\n",
    "    if (element % 2 == 0)\n",
    "    {\n",
    "        even[i1] = element;\n",
    "        i1++;\n",
    "    }\n",
    "    else\n",
    "    {\n",
    "        odd[i2] = element;\n",
    "        i2++;\n",
    "    }\n",
    "}\n",
    "\n",
    "Console.WriteLine(\"\\nThe Even Elements are: \");\n",
    "foreach (int element in even)  Console.WriteLine(element);\n",
    "\n",
    "Console.WriteLine(\"\\nThe Odd Elements are: \");\n",
    "foreach (int element in odd)   Console.WriteLine(element);\n"
   ]
  },
  {
   "cell_type": "markdown",
   "id": "1201452d",
   "metadata": {},
   "source": [
    "### Q5. Program to find if a point lies in a rectangle or not"
   ]
  },
  {
   "cell_type": "code",
   "execution_count": 7,
   "id": "c97129cf",
   "metadata": {},
   "outputs": [
    {
     "name": "stdout",
     "output_type": "stream",
     "text": [
      ">>> inside(1,1,0,0,2,3) = True\n",
      ">>> inside(-1,-1,0,0,2,3) = False\n"
     ]
    }
   ],
   "source": [
    "// a. //\n",
    "\n",
    "string inside(double x, double y, double x1, double y1, double x2, double y2)\n",
    "{\n",
    "    if (x >= x1 && x <= x2 && y >= y1 && y <= y2) return \"True\";\n",
    "    else return \"False\";\n",
    "}\n",
    "\n",
    "Console.WriteLine($\">>> inside(1,1,0,0,2,3) = {inside(1,1,0,0,2,3)}\");\n",
    "Console.WriteLine($\">>> inside(-1,-1,0,0,2,3) = {inside(-1,-1,0,0,2,3)}\");"
   ]
  },
  {
   "cell_type": "code",
   "execution_count": 8,
   "id": "5bdd5237",
   "metadata": {},
   "outputs": [
    {
     "name": "stdout",
     "output_type": "stream",
     "text": [
      "Point (1,1) lies in rectangle with corners (0.3,0.5) & (1.1,0.7) = False\n",
      "Point (1,1) lies in rectangle with corners (0.5,0.2) & (1.1,2) = True\n"
     ]
    }
   ],
   "source": [
    "// b. //\n",
    "\n",
    "Console.WriteLine($\"Point (1,1) lies in rectangle with corners (0.3,0.5) & (1.1,0.7) = {inside(1,1,0.3,0.5,1.1,0.7)}\");\n",
    "Console.WriteLine($\"Point (1,1) lies in rectangle with corners (0.5,0.2) & (1.1,2) = {inside(1,1,0.5,0.2,1.1,2)}\");"
   ]
  },
  {
   "cell_type": "code",
   "execution_count": null,
   "id": "b3bdcc19",
   "metadata": {},
   "outputs": [],
   "source": []
  }
 ],
 "metadata": {
  "kernelspec": {
   "display_name": ".NET (C#)",
   "language": "C#",
   "name": ".net-csharp"
  },
  "language_info": {
   "file_extension": ".cs",
   "mimetype": "text/x-csharp",
   "name": "C#",
   "pygments_lexer": "csharp",
   "version": "8.0"
  }
 },
 "nbformat": 4,
 "nbformat_minor": 5
}
